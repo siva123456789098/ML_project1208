{
  "nbformat": 4,
  "nbformat_minor": 0,
  "metadata": {
    "colab": {
      "provenance": []
    },
    "kernelspec": {
      "name": "python3",
      "display_name": "Python 3"
    },
    "language_info": {
      "name": "python"
    }
  },
  "cells": [
    {
      "cell_type": "code",
      "execution_count": null,
      "metadata": {
        "id": "XVMZ6_x2BRqT"
      },
      "outputs": [],
      "source": [
        "import numpy as np\n",
        "import pandas as pd\n",
        "import matplotlib.pyplot as plt"
      ]
    },
    {
      "cell_type": "code",
      "source": [
        "dataset_train = pd.read_csv(\"https://raw.githubusercontent.com/nandu19k/LSTM-Google-Price-Stock-Prediction/master/Google_Stock_Price_Train.csv\")"
      ],
      "metadata": {
        "id": "jAcj6TarBSw3"
      },
      "execution_count": null,
      "outputs": []
    },
    {
      "cell_type": "code",
      "source": [
        "dataset_train.head()"
      ],
      "metadata": {
        "colab": {
          "base_uri": "https://localhost:8080/",
          "height": 206
        },
        "id": "TumjIrvnBrEv",
        "outputId": "e4d3b148-d426-4138-9943-66959537632d"
      },
      "execution_count": null,
      "outputs": [
        {
          "output_type": "execute_result",
          "data": {
            "text/plain": [
              "       Date    Open    High     Low   Close      Volume\n",
              "0  1/3/2012  325.25  332.83  324.97  663.59   7,380,500\n",
              "1  1/4/2012  331.27  333.87  329.08  666.45   5,749,400\n",
              "2  1/5/2012  329.83  330.75  326.89  657.21   6,590,300\n",
              "3  1/6/2012  328.34  328.77  323.68  648.24   5,405,900\n",
              "4  1/9/2012  322.04  322.29  309.46  620.76  11,688,800"
            ],
            "text/html": [
              "\n",
              "  <div id=\"df-1b6d9d00-65bf-4dfb-af0c-470e44006d1f\">\n",
              "    <div class=\"colab-df-container\">\n",
              "      <div>\n",
              "<style scoped>\n",
              "    .dataframe tbody tr th:only-of-type {\n",
              "        vertical-align: middle;\n",
              "    }\n",
              "\n",
              "    .dataframe tbody tr th {\n",
              "        vertical-align: top;\n",
              "    }\n",
              "\n",
              "    .dataframe thead th {\n",
              "        text-align: right;\n",
              "    }\n",
              "</style>\n",
              "<table border=\"1\" class=\"dataframe\">\n",
              "  <thead>\n",
              "    <tr style=\"text-align: right;\">\n",
              "      <th></th>\n",
              "      <th>Date</th>\n",
              "      <th>Open</th>\n",
              "      <th>High</th>\n",
              "      <th>Low</th>\n",
              "      <th>Close</th>\n",
              "      <th>Volume</th>\n",
              "    </tr>\n",
              "  </thead>\n",
              "  <tbody>\n",
              "    <tr>\n",
              "      <th>0</th>\n",
              "      <td>1/3/2012</td>\n",
              "      <td>325.25</td>\n",
              "      <td>332.83</td>\n",
              "      <td>324.97</td>\n",
              "      <td>663.59</td>\n",
              "      <td>7,380,500</td>\n",
              "    </tr>\n",
              "    <tr>\n",
              "      <th>1</th>\n",
              "      <td>1/4/2012</td>\n",
              "      <td>331.27</td>\n",
              "      <td>333.87</td>\n",
              "      <td>329.08</td>\n",
              "      <td>666.45</td>\n",
              "      <td>5,749,400</td>\n",
              "    </tr>\n",
              "    <tr>\n",
              "      <th>2</th>\n",
              "      <td>1/5/2012</td>\n",
              "      <td>329.83</td>\n",
              "      <td>330.75</td>\n",
              "      <td>326.89</td>\n",
              "      <td>657.21</td>\n",
              "      <td>6,590,300</td>\n",
              "    </tr>\n",
              "    <tr>\n",
              "      <th>3</th>\n",
              "      <td>1/6/2012</td>\n",
              "      <td>328.34</td>\n",
              "      <td>328.77</td>\n",
              "      <td>323.68</td>\n",
              "      <td>648.24</td>\n",
              "      <td>5,405,900</td>\n",
              "    </tr>\n",
              "    <tr>\n",
              "      <th>4</th>\n",
              "      <td>1/9/2012</td>\n",
              "      <td>322.04</td>\n",
              "      <td>322.29</td>\n",
              "      <td>309.46</td>\n",
              "      <td>620.76</td>\n",
              "      <td>11,688,800</td>\n",
              "    </tr>\n",
              "  </tbody>\n",
              "</table>\n",
              "</div>\n",
              "      <button class=\"colab-df-convert\" onclick=\"convertToInteractive('df-1b6d9d00-65bf-4dfb-af0c-470e44006d1f')\"\n",
              "              title=\"Convert this dataframe to an interactive table.\"\n",
              "              style=\"display:none;\">\n",
              "        \n",
              "  <svg xmlns=\"http://www.w3.org/2000/svg\" height=\"24px\"viewBox=\"0 0 24 24\"\n",
              "       width=\"24px\">\n",
              "    <path d=\"M0 0h24v24H0V0z\" fill=\"none\"/>\n",
              "    <path d=\"M18.56 5.44l.94 2.06.94-2.06 2.06-.94-2.06-.94-.94-2.06-.94 2.06-2.06.94zm-11 1L8.5 8.5l.94-2.06 2.06-.94-2.06-.94L8.5 2.5l-.94 2.06-2.06.94zm10 10l.94 2.06.94-2.06 2.06-.94-2.06-.94-.94-2.06-.94 2.06-2.06.94z\"/><path d=\"M17.41 7.96l-1.37-1.37c-.4-.4-.92-.59-1.43-.59-.52 0-1.04.2-1.43.59L10.3 9.45l-7.72 7.72c-.78.78-.78 2.05 0 2.83L4 21.41c.39.39.9.59 1.41.59.51 0 1.02-.2 1.41-.59l7.78-7.78 2.81-2.81c.8-.78.8-2.07 0-2.86zM5.41 20L4 18.59l7.72-7.72 1.47 1.35L5.41 20z\"/>\n",
              "  </svg>\n",
              "      </button>\n",
              "      \n",
              "  <style>\n",
              "    .colab-df-container {\n",
              "      display:flex;\n",
              "      flex-wrap:wrap;\n",
              "      gap: 12px;\n",
              "    }\n",
              "\n",
              "    .colab-df-convert {\n",
              "      background-color: #E8F0FE;\n",
              "      border: none;\n",
              "      border-radius: 50%;\n",
              "      cursor: pointer;\n",
              "      display: none;\n",
              "      fill: #1967D2;\n",
              "      height: 32px;\n",
              "      padding: 0 0 0 0;\n",
              "      width: 32px;\n",
              "    }\n",
              "\n",
              "    .colab-df-convert:hover {\n",
              "      background-color: #E2EBFA;\n",
              "      box-shadow: 0px 1px 2px rgba(60, 64, 67, 0.3), 0px 1px 3px 1px rgba(60, 64, 67, 0.15);\n",
              "      fill: #174EA6;\n",
              "    }\n",
              "\n",
              "    [theme=dark] .colab-df-convert {\n",
              "      background-color: #3B4455;\n",
              "      fill: #D2E3FC;\n",
              "    }\n",
              "\n",
              "    [theme=dark] .colab-df-convert:hover {\n",
              "      background-color: #434B5C;\n",
              "      box-shadow: 0px 1px 3px 1px rgba(0, 0, 0, 0.15);\n",
              "      filter: drop-shadow(0px 1px 2px rgba(0, 0, 0, 0.3));\n",
              "      fill: #FFFFFF;\n",
              "    }\n",
              "  </style>\n",
              "\n",
              "      <script>\n",
              "        const buttonEl =\n",
              "          document.querySelector('#df-1b6d9d00-65bf-4dfb-af0c-470e44006d1f button.colab-df-convert');\n",
              "        buttonEl.style.display =\n",
              "          google.colab.kernel.accessAllowed ? 'block' : 'none';\n",
              "\n",
              "        async function convertToInteractive(key) {\n",
              "          const element = document.querySelector('#df-1b6d9d00-65bf-4dfb-af0c-470e44006d1f');\n",
              "          const dataTable =\n",
              "            await google.colab.kernel.invokeFunction('convertToInteractive',\n",
              "                                                     [key], {});\n",
              "          if (!dataTable) return;\n",
              "\n",
              "          const docLinkHtml = 'Like what you see? Visit the ' +\n",
              "            '<a target=\"_blank\" href=https://colab.research.google.com/notebooks/data_table.ipynb>data table notebook</a>'\n",
              "            + ' to learn more about interactive tables.';\n",
              "          element.innerHTML = '';\n",
              "          dataTable['output_type'] = 'display_data';\n",
              "          await google.colab.output.renderOutput(dataTable, element);\n",
              "          const docLink = document.createElement('div');\n",
              "          docLink.innerHTML = docLinkHtml;\n",
              "          element.appendChild(docLink);\n",
              "        }\n",
              "      </script>\n",
              "    </div>\n",
              "  </div>\n",
              "  "
            ]
          },
          "metadata": {},
          "execution_count": 3
        }
      ]
    },
    {
      "cell_type": "code",
      "source": [
        "dataset_train.isna().sum()"
      ],
      "metadata": {
        "colab": {
          "base_uri": "https://localhost:8080/"
        },
        "id": "cHs4XncRByL9",
        "outputId": "bd57312d-d300-48fb-82bd-027b3e0e66ec"
      },
      "execution_count": null,
      "outputs": [
        {
          "output_type": "execute_result",
          "data": {
            "text/plain": [
              "Date      0\n",
              "Open      0\n",
              "High      0\n",
              "Low       0\n",
              "Close     0\n",
              "Volume    0\n",
              "dtype: int64"
            ]
          },
          "metadata": {},
          "execution_count": 4
        }
      ]
    },
    {
      "cell_type": "code",
      "source": [
        "X = dataset_train.iloc[: , 1:2].values"
      ],
      "metadata": {
        "id": "DT2y13IKB4lY"
      },
      "execution_count": null,
      "outputs": []
    },
    {
      "cell_type": "code",
      "source": [
        "from sklearn.preprocessing import MinMaxScaler\n",
        "sc = MinMaxScaler()\n",
        "X = sc.fit_transform(X)"
      ],
      "metadata": {
        "id": "Pd0_xaFNB9NT"
      },
      "execution_count": null,
      "outputs": []
    },
    {
      "cell_type": "code",
      "source": [
        "x_train = []\n",
        "y_train = []\n",
        "for i in range(60 ,1258 ):\n",
        "  x_train.append(X[i-60:i,0])\n",
        "  y_train.append(X[i,0])"
      ],
      "metadata": {
        "id": "iuuwlXyQCBCt"
      },
      "execution_count": null,
      "outputs": []
    },
    {
      "cell_type": "code",
      "source": [
        "x_train = np.array(x_train)\n",
        "y_train = np.array(y_train)"
      ],
      "metadata": {
        "id": "OhjMX17RCIUh"
      },
      "execution_count": null,
      "outputs": []
    },
    {
      "cell_type": "code",
      "source": [
        "X.shape\n"
      ],
      "metadata": {
        "colab": {
          "base_uri": "https://localhost:8080/"
        },
        "id": "Vpn2M285CQcu",
        "outputId": "c8fcd65e-62d1-4bfe-fcf8-b3cbbeac4b1d"
      },
      "execution_count": null,
      "outputs": [
        {
          "output_type": "execute_result",
          "data": {
            "text/plain": [
              "(1258, 1)"
            ]
          },
          "metadata": {},
          "execution_count": 9
        }
      ]
    },
    {
      "cell_type": "code",
      "source": [
        "x_train = np.reshape(x_train , (x_train.shape[0] , x_train.shape[1],1))\n",
        "     "
      ],
      "metadata": {
        "id": "RlvB6WGMCXtg"
      },
      "execution_count": null,
      "outputs": []
    },
    {
      "cell_type": "code",
      "source": [
        "x_train.shape"
      ],
      "metadata": {
        "colab": {
          "base_uri": "https://localhost:8080/"
        },
        "id": "h8hTsDndCcRH",
        "outputId": "d6a6bf99-b4e8-42da-ec4e-88bc3e21bc41"
      },
      "execution_count": null,
      "outputs": [
        {
          "output_type": "execute_result",
          "data": {
            "text/plain": [
              "(1198, 60, 1)"
            ]
          },
          "metadata": {},
          "execution_count": 11
        }
      ]
    },
    {
      "cell_type": "code",
      "source": [
        "from keras.models import Sequential\n",
        "from keras.layers import Dense\n",
        "from keras.layers import LSTM\n",
        "from keras.layers import Dropout"
      ],
      "metadata": {
        "id": "RjOy_yttCjMN"
      },
      "execution_count": null,
      "outputs": []
    },
    {
      "cell_type": "code",
      "source": [
        "regressor  = Sequential()\n",
        "regressor.add(LSTM(units=50 , return_sequences=True, input_shape = (x_train.shape[1] , 1)))\n",
        "regressor.add(Dropout(rate=0.2))\n",
        "regressor.add(LSTM(units=50 , return_sequences=True))\n",
        "regressor.add(Dropout(0.2))\n",
        "regressor.add(LSTM(units=50 , return_sequences=True))\n",
        "regressor.add(Dropout(0.1))\n"
      ],
      "metadata": {
        "id": "be8lffNjCnJQ"
      },
      "execution_count": null,
      "outputs": []
    },
    {
      "cell_type": "code",
      "source": [
        "regressor.add(LSTM(units=50))\n",
        "regressor.add(Dropout(0.2))\n",
        "regressor.add(Dense(units=1))"
      ],
      "metadata": {
        "id": "b393UYxDCrP2"
      },
      "execution_count": null,
      "outputs": []
    },
    {
      "cell_type": "code",
      "source": [
        "regressor.compile(optimizer='adam' , loss='mean_squared_error')\n"
      ],
      "metadata": {
        "id": "29qVMYAqCunM"
      },
      "execution_count": null,
      "outputs": []
    },
    {
      "cell_type": "code",
      "source": [
        "regressor.fit(x_train , y_train , epochs=200,batch_size=32)"
      ],
      "metadata": {
        "colab": {
          "base_uri": "https://localhost:8080/"
        },
        "id": "UO_rNM_iCzFs",
        "outputId": "afe87e0a-234e-4b4d-fe03-e73855657184"
      },
      "execution_count": null,
      "outputs": [
        {
          "output_type": "stream",
          "name": "stdout",
          "text": [
            "Epoch 1/200\n",
            "38/38 [==============================] - 15s 135ms/step - loss: 0.0454\n",
            "Epoch 2/200\n",
            "38/38 [==============================] - 6s 161ms/step - loss: 0.0063\n",
            "Epoch 3/200\n",
            "38/38 [==============================] - 5s 131ms/step - loss: 0.0050\n",
            "Epoch 4/200\n",
            "38/38 [==============================] - 6s 164ms/step - loss: 0.0051\n",
            "Epoch 5/200\n",
            "38/38 [==============================] - 5s 130ms/step - loss: 0.0046\n",
            "Epoch 6/200\n",
            "38/38 [==============================] - 7s 179ms/step - loss: 0.0045\n",
            "Epoch 7/200\n",
            "38/38 [==============================] - 5s 132ms/step - loss: 0.0047\n",
            "Epoch 8/200\n",
            "38/38 [==============================] - 5s 134ms/step - loss: 0.0043\n",
            "Epoch 9/200\n",
            "38/38 [==============================] - 7s 196ms/step - loss: 0.0046\n",
            "Epoch 10/200\n",
            "38/38 [==============================] - 8s 201ms/step - loss: 0.0044\n",
            "Epoch 11/200\n",
            "38/38 [==============================] - 6s 146ms/step - loss: 0.0052\n",
            "Epoch 12/200\n",
            "38/38 [==============================] - 5s 132ms/step - loss: 0.0039\n",
            "Epoch 13/200\n",
            "38/38 [==============================] - 6s 168ms/step - loss: 0.0036\n",
            "Epoch 14/200\n",
            "38/38 [==============================] - 5s 129ms/step - loss: 0.0044\n",
            "Epoch 15/200\n",
            "38/38 [==============================] - 6s 167ms/step - loss: 0.0038\n",
            "Epoch 16/200\n",
            "38/38 [==============================] - 5s 134ms/step - loss: 0.0042\n",
            "Epoch 17/200\n",
            "38/38 [==============================] - 6s 155ms/step - loss: 0.0046\n",
            "Epoch 18/200\n",
            "38/38 [==============================] - 6s 145ms/step - loss: 0.0034\n",
            "Epoch 19/200\n",
            "38/38 [==============================] - 5s 137ms/step - loss: 0.0038\n",
            "Epoch 20/200\n",
            "38/38 [==============================] - 6s 168ms/step - loss: 0.0034\n",
            "Epoch 21/200\n",
            "38/38 [==============================] - 5s 137ms/step - loss: 0.0035\n",
            "Epoch 22/200\n",
            "38/38 [==============================] - 6s 171ms/step - loss: 0.0032\n",
            "Epoch 23/200\n",
            "38/38 [==============================] - 5s 133ms/step - loss: 0.0035\n",
            "Epoch 24/200\n",
            "38/38 [==============================] - 6s 164ms/step - loss: 0.0035\n",
            "Epoch 25/200\n",
            "38/38 [==============================] - 5s 132ms/step - loss: 0.0032\n",
            "Epoch 26/200\n",
            "38/38 [==============================] - 5s 131ms/step - loss: 0.0031\n",
            "Epoch 27/200\n",
            "38/38 [==============================] - 6s 167ms/step - loss: 0.0032\n",
            "Epoch 28/200\n",
            "38/38 [==============================] - 5s 133ms/step - loss: 0.0030\n",
            "Epoch 29/200\n",
            "38/38 [==============================] - 6s 168ms/step - loss: 0.0032\n",
            "Epoch 30/200\n",
            "38/38 [==============================] - 5s 127ms/step - loss: 0.0028\n",
            "Epoch 31/200\n",
            "38/38 [==============================] - 6s 156ms/step - loss: 0.0029\n",
            "Epoch 32/200\n",
            "38/38 [==============================] - 5s 135ms/step - loss: 0.0032\n",
            "Epoch 33/200\n",
            "38/38 [==============================] - 5s 131ms/step - loss: 0.0026\n",
            "Epoch 34/200\n",
            "38/38 [==============================] - 6s 165ms/step - loss: 0.0026\n",
            "Epoch 35/200\n",
            "38/38 [==============================] - 5s 128ms/step - loss: 0.0026\n",
            "Epoch 36/200\n",
            "38/38 [==============================] - 6s 160ms/step - loss: 0.0037\n",
            "Epoch 37/200\n",
            "38/38 [==============================] - 5s 131ms/step - loss: 0.0031\n",
            "Epoch 38/200\n",
            "38/38 [==============================] - 6s 145ms/step - loss: 0.0026\n",
            "Epoch 39/200\n",
            "38/38 [==============================] - 6s 146ms/step - loss: 0.0027\n",
            "Epoch 40/200\n",
            "38/38 [==============================] - 5s 132ms/step - loss: 0.0029\n",
            "Epoch 41/200\n",
            "38/38 [==============================] - 6s 169ms/step - loss: 0.0026\n",
            "Epoch 42/200\n",
            "38/38 [==============================] - 5s 131ms/step - loss: 0.0030\n",
            "Epoch 43/200\n",
            "38/38 [==============================] - 6s 168ms/step - loss: 0.0029\n",
            "Epoch 44/200\n",
            "38/38 [==============================] - 5s 133ms/step - loss: 0.0026\n",
            "Epoch 45/200\n",
            "38/38 [==============================] - 6s 150ms/step - loss: 0.0023\n",
            "Epoch 46/200\n",
            "38/38 [==============================] - 6s 143ms/step - loss: 0.0024\n",
            "Epoch 47/200\n",
            "38/38 [==============================] - 5s 130ms/step - loss: 0.0023\n",
            "Epoch 48/200\n",
            "38/38 [==============================] - 6s 167ms/step - loss: 0.0025\n",
            "Epoch 49/200\n",
            "38/38 [==============================] - 5s 131ms/step - loss: 0.0024\n",
            "Epoch 50/200\n",
            "38/38 [==============================] - 6s 166ms/step - loss: 0.0025\n",
            "Epoch 51/200\n",
            "38/38 [==============================] - 5s 134ms/step - loss: 0.0024\n",
            "Epoch 52/200\n",
            "38/38 [==============================] - 5s 140ms/step - loss: 0.0024\n",
            "Epoch 53/200\n",
            "38/38 [==============================] - 6s 154ms/step - loss: 0.0020\n",
            "Epoch 54/200\n",
            "38/38 [==============================] - 5s 127ms/step - loss: 0.0021\n",
            "Epoch 55/200\n",
            "38/38 [==============================] - 6s 169ms/step - loss: 0.0023\n",
            "Epoch 56/200\n",
            "38/38 [==============================] - 5s 132ms/step - loss: 0.0022\n",
            "Epoch 57/200\n",
            "38/38 [==============================] - 6s 168ms/step - loss: 0.0024\n",
            "Epoch 58/200\n",
            "38/38 [==============================] - 5s 129ms/step - loss: 0.0020\n",
            "Epoch 59/200\n",
            "38/38 [==============================] - 6s 147ms/step - loss: 0.0022\n",
            "Epoch 60/200\n",
            "38/38 [==============================] - 6s 152ms/step - loss: 0.0022\n",
            "Epoch 61/200\n",
            "38/38 [==============================] - 5s 135ms/step - loss: 0.0022\n",
            "Epoch 62/200\n",
            "38/38 [==============================] - 6s 165ms/step - loss: 0.0021\n",
            "Epoch 63/200\n",
            "38/38 [==============================] - 5s 131ms/step - loss: 0.0018\n",
            "Epoch 64/200\n",
            "38/38 [==============================] - 6s 169ms/step - loss: 0.0019\n",
            "Epoch 65/200\n",
            "38/38 [==============================] - 5s 132ms/step - loss: 0.0020\n",
            "Epoch 66/200\n",
            "38/38 [==============================] - 5s 144ms/step - loss: 0.0019\n",
            "Epoch 67/200\n",
            "38/38 [==============================] - 6s 155ms/step - loss: 0.0018\n",
            "Epoch 68/200\n",
            "38/38 [==============================] - 5s 134ms/step - loss: 0.0021\n",
            "Epoch 69/200\n",
            "38/38 [==============================] - 6s 170ms/step - loss: 0.0021\n",
            "Epoch 70/200\n",
            "38/38 [==============================] - 5s 132ms/step - loss: 0.0018\n",
            "Epoch 71/200\n",
            "38/38 [==============================] - 6s 167ms/step - loss: 0.0018\n",
            "Epoch 72/200\n",
            "38/38 [==============================] - 5s 132ms/step - loss: 0.0017\n",
            "Epoch 73/200\n",
            "38/38 [==============================] - 5s 144ms/step - loss: 0.0017\n",
            "Epoch 74/200\n",
            "38/38 [==============================] - 6s 150ms/step - loss: 0.0020\n",
            "Epoch 75/200\n",
            "38/38 [==============================] - 5s 128ms/step - loss: 0.0017\n",
            "Epoch 76/200\n",
            "38/38 [==============================] - 6s 166ms/step - loss: 0.0017\n",
            "Epoch 77/200\n",
            "38/38 [==============================] - 5s 140ms/step - loss: 0.0017\n",
            "Epoch 78/200\n",
            "38/38 [==============================] - 6s 167ms/step - loss: 0.0019\n",
            "Epoch 79/200\n",
            "38/38 [==============================] - 5s 132ms/step - loss: 0.0016\n",
            "Epoch 80/200\n",
            "38/38 [==============================] - 6s 149ms/step - loss: 0.0017\n",
            "Epoch 81/200\n",
            "38/38 [==============================] - 6s 151ms/step - loss: 0.0017\n",
            "Epoch 82/200\n",
            "38/38 [==============================] - 5s 134ms/step - loss: 0.0017\n",
            "Epoch 83/200\n",
            "38/38 [==============================] - 6s 169ms/step - loss: 0.0015\n",
            "Epoch 84/200\n",
            "38/38 [==============================] - 5s 133ms/step - loss: 0.0015\n",
            "Epoch 85/200\n",
            "38/38 [==============================] - 6s 168ms/step - loss: 0.0015\n",
            "Epoch 86/200\n",
            "38/38 [==============================] - 5s 135ms/step - loss: 0.0016\n",
            "Epoch 87/200\n",
            "38/38 [==============================] - 6s 155ms/step - loss: 0.0017\n",
            "Epoch 88/200\n",
            "38/38 [==============================] - 6s 148ms/step - loss: 0.0014\n",
            "Epoch 89/200\n",
            "38/38 [==============================] - 5s 137ms/step - loss: 0.0018\n",
            "Epoch 90/200\n",
            "38/38 [==============================] - 6s 165ms/step - loss: 0.0017\n",
            "Epoch 91/200\n",
            "38/38 [==============================] - 5s 136ms/step - loss: 0.0014\n",
            "Epoch 92/200\n",
            "38/38 [==============================] - 6s 168ms/step - loss: 0.0015\n",
            "Epoch 93/200\n",
            "38/38 [==============================] - 5s 134ms/step - loss: 0.0016\n",
            "Epoch 94/200\n",
            "38/38 [==============================] - 6s 162ms/step - loss: 0.0016\n",
            "Epoch 95/200\n",
            "38/38 [==============================] - 5s 138ms/step - loss: 0.0014\n",
            "Epoch 96/200\n",
            "38/38 [==============================] - 5s 136ms/step - loss: 0.0014\n",
            "Epoch 97/200\n",
            "38/38 [==============================] - 6s 165ms/step - loss: 0.0015\n",
            "Epoch 98/200\n",
            "38/38 [==============================] - 5s 135ms/step - loss: 0.0013\n",
            "Epoch 99/200\n",
            "38/38 [==============================] - 6s 167ms/step - loss: 0.0015\n",
            "Epoch 100/200\n",
            "38/38 [==============================] - 5s 136ms/step - loss: 0.0013\n",
            "Epoch 101/200\n",
            "38/38 [==============================] - 6s 165ms/step - loss: 0.0013\n",
            "Epoch 102/200\n",
            "38/38 [==============================] - 5s 138ms/step - loss: 0.0013\n",
            "Epoch 103/200\n",
            "38/38 [==============================] - 6s 152ms/step - loss: 0.0015\n",
            "Epoch 104/200\n",
            "38/38 [==============================] - 6s 150ms/step - loss: 0.0013\n",
            "Epoch 105/200\n",
            "38/38 [==============================] - 5s 137ms/step - loss: 0.0013\n",
            "Epoch 106/200\n",
            "38/38 [==============================] - 6s 169ms/step - loss: 0.0016\n",
            "Epoch 107/200\n",
            "38/38 [==============================] - 5s 134ms/step - loss: 0.0013\n",
            "Epoch 108/200\n",
            "38/38 [==============================] - 6s 167ms/step - loss: 0.0013\n",
            "Epoch 109/200\n",
            "38/38 [==============================] - 5s 132ms/step - loss: 0.0016\n",
            "Epoch 110/200\n",
            "38/38 [==============================] - 6s 156ms/step - loss: 0.0013\n",
            "Epoch 111/200\n",
            "38/38 [==============================] - 6s 146ms/step - loss: 0.0013\n",
            "Epoch 112/200\n",
            "38/38 [==============================] - 5s 135ms/step - loss: 0.0013\n",
            "Epoch 113/200\n",
            "38/38 [==============================] - 6s 165ms/step - loss: 0.0015\n",
            "Epoch 114/200\n",
            "38/38 [==============================] - 5s 134ms/step - loss: 0.0012\n",
            "Epoch 115/200\n",
            "38/38 [==============================] - 6s 169ms/step - loss: 0.0011\n",
            "Epoch 116/200\n",
            "38/38 [==============================] - 5s 137ms/step - loss: 0.0013\n",
            "Epoch 117/200\n",
            "38/38 [==============================] - 7s 177ms/step - loss: 0.0012\n",
            "Epoch 118/200\n",
            "38/38 [==============================] - 5s 141ms/step - loss: 0.0011\n",
            "Epoch 119/200\n",
            "38/38 [==============================] - 5s 139ms/step - loss: 0.0012\n",
            "Epoch 120/200\n",
            "38/38 [==============================] - 6s 155ms/step - loss: 0.0012\n",
            "Epoch 121/200\n",
            "38/38 [==============================] - 5s 134ms/step - loss: 0.0012\n",
            "Epoch 122/200\n",
            "38/38 [==============================] - 6s 165ms/step - loss: 0.0011\n",
            "Epoch 123/200\n",
            "38/38 [==============================] - 5s 133ms/step - loss: 0.0011\n",
            "Epoch 124/200\n",
            "38/38 [==============================] - 6s 161ms/step - loss: 0.0011\n",
            "Epoch 125/200\n",
            "38/38 [==============================] - 5s 132ms/step - loss: 0.0011\n",
            "Epoch 126/200\n",
            "38/38 [==============================] - 6s 148ms/step - loss: 0.0013\n",
            "Epoch 127/200\n",
            "38/38 [==============================] - 6s 150ms/step - loss: 0.0013\n",
            "Epoch 128/200\n",
            "38/38 [==============================] - 5s 138ms/step - loss: 0.0012\n",
            "Epoch 129/200\n",
            "38/38 [==============================] - 6s 167ms/step - loss: 0.0012\n",
            "Epoch 130/200\n",
            "38/38 [==============================] - 5s 139ms/step - loss: 0.0012\n",
            "Epoch 131/200\n",
            "38/38 [==============================] - 6s 164ms/step - loss: 0.0012\n",
            "Epoch 132/200\n",
            "38/38 [==============================] - 5s 135ms/step - loss: 0.0010\n",
            "Epoch 133/200\n",
            "38/38 [==============================] - 6s 158ms/step - loss: 0.0011\n",
            "Epoch 134/200\n",
            "38/38 [==============================] - 6s 143ms/step - loss: 0.0011\n",
            "Epoch 135/200\n",
            "38/38 [==============================] - 5s 134ms/step - loss: 0.0011\n",
            "Epoch 136/200\n",
            "38/38 [==============================] - 6s 170ms/step - loss: 9.3726e-04\n",
            "Epoch 137/200\n",
            "38/38 [==============================] - 5s 136ms/step - loss: 9.8958e-04\n",
            "Epoch 138/200\n",
            "38/38 [==============================] - 6s 163ms/step - loss: 0.0012\n",
            "Epoch 139/200\n",
            "38/38 [==============================] - 5s 134ms/step - loss: 0.0011\n",
            "Epoch 140/200\n",
            "38/38 [==============================] - 6s 162ms/step - loss: 0.0013\n",
            "Epoch 141/200\n",
            "38/38 [==============================] - 5s 140ms/step - loss: 0.0012\n",
            "Epoch 142/200\n",
            "38/38 [==============================] - 5s 134ms/step - loss: 0.0010\n",
            "Epoch 143/200\n",
            "38/38 [==============================] - 6s 166ms/step - loss: 0.0011\n",
            "Epoch 144/200\n",
            "38/38 [==============================] - 5s 135ms/step - loss: 0.0011\n",
            "Epoch 145/200\n",
            "38/38 [==============================] - 6s 170ms/step - loss: 0.0011\n",
            "Epoch 146/200\n",
            "38/38 [==============================] - 5s 136ms/step - loss: 0.0011\n",
            "Epoch 147/200\n",
            "38/38 [==============================] - 6s 169ms/step - loss: 0.0011\n",
            "Epoch 148/200\n",
            "38/38 [==============================] - 5s 134ms/step - loss: 9.9755e-04\n",
            "Epoch 149/200\n",
            "38/38 [==============================] - 5s 140ms/step - loss: 9.0082e-04\n",
            "Epoch 150/200\n",
            "38/38 [==============================] - 6s 159ms/step - loss: 0.0014\n",
            "Epoch 151/200\n",
            "38/38 [==============================] - 5s 135ms/step - loss: 0.0012\n",
            "Epoch 152/200\n",
            "38/38 [==============================] - 6s 170ms/step - loss: 0.0010\n",
            "Epoch 153/200\n",
            "38/38 [==============================] - 5s 136ms/step - loss: 0.0011\n",
            "Epoch 154/200\n",
            "38/38 [==============================] - 6s 168ms/step - loss: 0.0010\n",
            "Epoch 155/200\n",
            "38/38 [==============================] - 5s 134ms/step - loss: 9.6008e-04\n",
            "Epoch 156/200\n",
            "38/38 [==============================] - 6s 147ms/step - loss: 0.0010\n",
            "Epoch 157/200\n",
            "38/38 [==============================] - 6s 147ms/step - loss: 9.0887e-04\n",
            "Epoch 158/200\n",
            "38/38 [==============================] - 5s 135ms/step - loss: 0.0010\n",
            "Epoch 159/200\n",
            "38/38 [==============================] - 6s 163ms/step - loss: 0.0010\n",
            "Epoch 160/200\n",
            "38/38 [==============================] - 5s 130ms/step - loss: 9.8748e-04\n",
            "Epoch 161/200\n",
            "38/38 [==============================] - 6s 164ms/step - loss: 0.0010\n",
            "Epoch 162/200\n",
            "38/38 [==============================] - 5s 137ms/step - loss: 0.0011\n",
            "Epoch 163/200\n",
            "38/38 [==============================] - 6s 145ms/step - loss: 9.8183e-04\n",
            "Epoch 164/200\n",
            "38/38 [==============================] - 6s 149ms/step - loss: 0.0011\n",
            "Epoch 165/200\n",
            "38/38 [==============================] - 5s 134ms/step - loss: 0.0010\n",
            "Epoch 166/200\n",
            "38/38 [==============================] - 6s 168ms/step - loss: 0.0011\n",
            "Epoch 167/200\n",
            "38/38 [==============================] - 6s 154ms/step - loss: 0.0012\n",
            "Epoch 168/200\n",
            "38/38 [==============================] - 8s 197ms/step - loss: 0.0012\n",
            "Epoch 169/200\n",
            "38/38 [==============================] - 5s 138ms/step - loss: 0.0011\n",
            "Epoch 170/200\n",
            "38/38 [==============================] - 7s 187ms/step - loss: 9.6778e-04\n",
            "Epoch 171/200\n",
            "38/38 [==============================] - 6s 148ms/step - loss: 0.0011\n",
            "Epoch 172/200\n",
            "38/38 [==============================] - 10s 256ms/step - loss: 0.0011\n",
            "Epoch 173/200\n",
            "38/38 [==============================] - 13s 338ms/step - loss: 9.9528e-04\n",
            "Epoch 174/200\n",
            "38/38 [==============================] - 7s 192ms/step - loss: 0.0012\n",
            "Epoch 175/200\n",
            "38/38 [==============================] - 7s 177ms/step - loss: 0.0012\n",
            "Epoch 176/200\n",
            "38/38 [==============================] - 5s 143ms/step - loss: 8.5519e-04\n",
            "Epoch 177/200\n",
            "38/38 [==============================] - 7s 182ms/step - loss: 0.0010\n",
            "Epoch 178/200\n",
            "38/38 [==============================] - 6s 149ms/step - loss: 0.0010\n",
            "Epoch 179/200\n",
            "38/38 [==============================] - 7s 188ms/step - loss: 0.0010\n",
            "Epoch 180/200\n",
            "38/38 [==============================] - 6s 149ms/step - loss: 0.0011\n",
            "Epoch 181/200\n",
            "38/38 [==============================] - 7s 181ms/step - loss: 0.0012\n",
            "Epoch 182/200\n",
            "38/38 [==============================] - 6s 148ms/step - loss: 0.0013\n",
            "Epoch 183/200\n",
            "38/38 [==============================] - 7s 182ms/step - loss: 0.0011\n",
            "Epoch 184/200\n",
            "38/38 [==============================] - 6s 150ms/step - loss: 9.6874e-04\n",
            "Epoch 185/200\n",
            "38/38 [==============================] - 7s 181ms/step - loss: 0.0010\n",
            "Epoch 186/200\n",
            "38/38 [==============================] - 5s 144ms/step - loss: 8.6284e-04\n",
            "Epoch 187/200\n",
            "38/38 [==============================] - 7s 189ms/step - loss: 8.5082e-04\n",
            "Epoch 188/200\n",
            "38/38 [==============================] - 6s 167ms/step - loss: 9.5680e-04\n",
            "Epoch 189/200\n",
            "38/38 [==============================] - 7s 195ms/step - loss: 9.4530e-04\n",
            "Epoch 190/200\n",
            "38/38 [==============================] - 6s 146ms/step - loss: 0.0011\n",
            "Epoch 191/200\n",
            "38/38 [==============================] - 7s 185ms/step - loss: 9.7892e-04\n",
            "Epoch 192/200\n",
            "38/38 [==============================] - 6s 151ms/step - loss: 0.0010\n",
            "Epoch 193/200\n",
            "38/38 [==============================] - 7s 196ms/step - loss: 0.0010\n",
            "Epoch 194/200\n",
            "38/38 [==============================] - 6s 147ms/step - loss: 0.0012\n",
            "Epoch 195/200\n",
            "38/38 [==============================] - 7s 189ms/step - loss: 0.0012\n",
            "Epoch 196/200\n",
            "38/38 [==============================] - 6s 163ms/step - loss: 0.0010\n",
            "Epoch 197/200\n",
            "38/38 [==============================] - 6s 160ms/step - loss: 9.6725e-04\n",
            "Epoch 198/200\n",
            "38/38 [==============================] - 6s 147ms/step - loss: 0.0010\n",
            "Epoch 199/200\n",
            "38/38 [==============================] - 5s 135ms/step - loss: 9.8658e-04\n",
            "Epoch 200/200\n",
            "38/38 [==============================] - 6s 166ms/step - loss: 9.9446e-04\n"
          ]
        },
        {
          "output_type": "execute_result",
          "data": {
            "text/plain": [
              "<keras.callbacks.History at 0x7fc1e1d91670>"
            ]
          },
          "metadata": {},
          "execution_count": 16
        }
      ]
    },
    {
      "cell_type": "code",
      "source": [
        "dataset_test = pd.read_csv(\"https://raw.githubusercontent.com/nandu19k/LSTM-Google-Price-Stock-Prediction/master/Google_Stock_Price_Test.csv\")"
      ],
      "metadata": {
        "id": "6BAEM81EC2q1"
      },
      "execution_count": null,
      "outputs": []
    },
    {
      "cell_type": "code",
      "source": [
        "dataset_test.head()"
      ],
      "metadata": {
        "colab": {
          "base_uri": "https://localhost:8080/",
          "height": 206
        },
        "id": "BTAKunSPHXXi",
        "outputId": "7c14a081-5b00-4a4f-9edc-101ce1d7008e"
      },
      "execution_count": null,
      "outputs": [
        {
          "output_type": "execute_result",
          "data": {
            "text/plain": [
              "       Date    Open    High     Low   Close     Volume\n",
              "0  1/3/2017  778.81  789.63  775.80  786.14  1,657,300\n",
              "1  1/4/2017  788.36  791.34  783.16  786.90  1,073,000\n",
              "2  1/5/2017  786.08  794.48  785.02  794.02  1,335,200\n",
              "3  1/6/2017  795.26  807.90  792.20  806.15  1,640,200\n",
              "4  1/9/2017  806.40  809.97  802.83  806.65  1,272,400"
            ],
            "text/html": [
              "\n",
              "  <div id=\"df-0d3b9f97-3356-4522-b02b-b7051de260e1\">\n",
              "    <div class=\"colab-df-container\">\n",
              "      <div>\n",
              "<style scoped>\n",
              "    .dataframe tbody tr th:only-of-type {\n",
              "        vertical-align: middle;\n",
              "    }\n",
              "\n",
              "    .dataframe tbody tr th {\n",
              "        vertical-align: top;\n",
              "    }\n",
              "\n",
              "    .dataframe thead th {\n",
              "        text-align: right;\n",
              "    }\n",
              "</style>\n",
              "<table border=\"1\" class=\"dataframe\">\n",
              "  <thead>\n",
              "    <tr style=\"text-align: right;\">\n",
              "      <th></th>\n",
              "      <th>Date</th>\n",
              "      <th>Open</th>\n",
              "      <th>High</th>\n",
              "      <th>Low</th>\n",
              "      <th>Close</th>\n",
              "      <th>Volume</th>\n",
              "    </tr>\n",
              "  </thead>\n",
              "  <tbody>\n",
              "    <tr>\n",
              "      <th>0</th>\n",
              "      <td>1/3/2017</td>\n",
              "      <td>778.81</td>\n",
              "      <td>789.63</td>\n",
              "      <td>775.80</td>\n",
              "      <td>786.14</td>\n",
              "      <td>1,657,300</td>\n",
              "    </tr>\n",
              "    <tr>\n",
              "      <th>1</th>\n",
              "      <td>1/4/2017</td>\n",
              "      <td>788.36</td>\n",
              "      <td>791.34</td>\n",
              "      <td>783.16</td>\n",
              "      <td>786.90</td>\n",
              "      <td>1,073,000</td>\n",
              "    </tr>\n",
              "    <tr>\n",
              "      <th>2</th>\n",
              "      <td>1/5/2017</td>\n",
              "      <td>786.08</td>\n",
              "      <td>794.48</td>\n",
              "      <td>785.02</td>\n",
              "      <td>794.02</td>\n",
              "      <td>1,335,200</td>\n",
              "    </tr>\n",
              "    <tr>\n",
              "      <th>3</th>\n",
              "      <td>1/6/2017</td>\n",
              "      <td>795.26</td>\n",
              "      <td>807.90</td>\n",
              "      <td>792.20</td>\n",
              "      <td>806.15</td>\n",
              "      <td>1,640,200</td>\n",
              "    </tr>\n",
              "    <tr>\n",
              "      <th>4</th>\n",
              "      <td>1/9/2017</td>\n",
              "      <td>806.40</td>\n",
              "      <td>809.97</td>\n",
              "      <td>802.83</td>\n",
              "      <td>806.65</td>\n",
              "      <td>1,272,400</td>\n",
              "    </tr>\n",
              "  </tbody>\n",
              "</table>\n",
              "</div>\n",
              "      <button class=\"colab-df-convert\" onclick=\"convertToInteractive('df-0d3b9f97-3356-4522-b02b-b7051de260e1')\"\n",
              "              title=\"Convert this dataframe to an interactive table.\"\n",
              "              style=\"display:none;\">\n",
              "        \n",
              "  <svg xmlns=\"http://www.w3.org/2000/svg\" height=\"24px\"viewBox=\"0 0 24 24\"\n",
              "       width=\"24px\">\n",
              "    <path d=\"M0 0h24v24H0V0z\" fill=\"none\"/>\n",
              "    <path d=\"M18.56 5.44l.94 2.06.94-2.06 2.06-.94-2.06-.94-.94-2.06-.94 2.06-2.06.94zm-11 1L8.5 8.5l.94-2.06 2.06-.94-2.06-.94L8.5 2.5l-.94 2.06-2.06.94zm10 10l.94 2.06.94-2.06 2.06-.94-2.06-.94-.94-2.06-.94 2.06-2.06.94z\"/><path d=\"M17.41 7.96l-1.37-1.37c-.4-.4-.92-.59-1.43-.59-.52 0-1.04.2-1.43.59L10.3 9.45l-7.72 7.72c-.78.78-.78 2.05 0 2.83L4 21.41c.39.39.9.59 1.41.59.51 0 1.02-.2 1.41-.59l7.78-7.78 2.81-2.81c.8-.78.8-2.07 0-2.86zM5.41 20L4 18.59l7.72-7.72 1.47 1.35L5.41 20z\"/>\n",
              "  </svg>\n",
              "      </button>\n",
              "      \n",
              "  <style>\n",
              "    .colab-df-container {\n",
              "      display:flex;\n",
              "      flex-wrap:wrap;\n",
              "      gap: 12px;\n",
              "    }\n",
              "\n",
              "    .colab-df-convert {\n",
              "      background-color: #E8F0FE;\n",
              "      border: none;\n",
              "      border-radius: 50%;\n",
              "      cursor: pointer;\n",
              "      display: none;\n",
              "      fill: #1967D2;\n",
              "      height: 32px;\n",
              "      padding: 0 0 0 0;\n",
              "      width: 32px;\n",
              "    }\n",
              "\n",
              "    .colab-df-convert:hover {\n",
              "      background-color: #E2EBFA;\n",
              "      box-shadow: 0px 1px 2px rgba(60, 64, 67, 0.3), 0px 1px 3px 1px rgba(60, 64, 67, 0.15);\n",
              "      fill: #174EA6;\n",
              "    }\n",
              "\n",
              "    [theme=dark] .colab-df-convert {\n",
              "      background-color: #3B4455;\n",
              "      fill: #D2E3FC;\n",
              "    }\n",
              "\n",
              "    [theme=dark] .colab-df-convert:hover {\n",
              "      background-color: #434B5C;\n",
              "      box-shadow: 0px 1px 3px 1px rgba(0, 0, 0, 0.15);\n",
              "      filter: drop-shadow(0px 1px 2px rgba(0, 0, 0, 0.3));\n",
              "      fill: #FFFFFF;\n",
              "    }\n",
              "  </style>\n",
              "\n",
              "      <script>\n",
              "        const buttonEl =\n",
              "          document.querySelector('#df-0d3b9f97-3356-4522-b02b-b7051de260e1 button.colab-df-convert');\n",
              "        buttonEl.style.display =\n",
              "          google.colab.kernel.accessAllowed ? 'block' : 'none';\n",
              "\n",
              "        async function convertToInteractive(key) {\n",
              "          const element = document.querySelector('#df-0d3b9f97-3356-4522-b02b-b7051de260e1');\n",
              "          const dataTable =\n",
              "            await google.colab.kernel.invokeFunction('convertToInteractive',\n",
              "                                                     [key], {});\n",
              "          if (!dataTable) return;\n",
              "\n",
              "          const docLinkHtml = 'Like what you see? Visit the ' +\n",
              "            '<a target=\"_blank\" href=https://colab.research.google.com/notebooks/data_table.ipynb>data table notebook</a>'\n",
              "            + ' to learn more about interactive tables.';\n",
              "          element.innerHTML = '';\n",
              "          dataTable['output_type'] = 'display_data';\n",
              "          await google.colab.output.renderOutput(dataTable, element);\n",
              "          const docLink = document.createElement('div');\n",
              "          docLink.innerHTML = docLinkHtml;\n",
              "          element.appendChild(docLink);\n",
              "        }\n",
              "      </script>\n",
              "    </div>\n",
              "  </div>\n",
              "  "
            ]
          },
          "metadata": {},
          "execution_count": 18
        }
      ]
    },
    {
      "cell_type": "code",
      "source": [
        "dataset_test.shape\n"
      ],
      "metadata": {
        "colab": {
          "base_uri": "https://localhost:8080/"
        },
        "id": "EvAvecu2HgXo",
        "outputId": "7ddb017b-82cc-4c03-c521-1447372317ad"
      },
      "execution_count": null,
      "outputs": [
        {
          "output_type": "execute_result",
          "data": {
            "text/plain": [
              "(20, 6)"
            ]
          },
          "metadata": {},
          "execution_count": 19
        }
      ]
    },
    {
      "cell_type": "code",
      "source": [
        "real_stock_price = dataset_test.iloc[: , 1:2].values"
      ],
      "metadata": {
        "id": "UoJpzxfzHkGu"
      },
      "execution_count": null,
      "outputs": []
    },
    {
      "cell_type": "code",
      "source": [
        "real_stock_price"
      ],
      "metadata": {
        "colab": {
          "base_uri": "https://localhost:8080/"
        },
        "id": "2YkMdsRKHnXD",
        "outputId": "72eb717b-27c3-42f9-d8f5-94f4549832c9"
      },
      "execution_count": null,
      "outputs": [
        {
          "output_type": "execute_result",
          "data": {
            "text/plain": [
              "array([[778.81],\n",
              "       [788.36],\n",
              "       [786.08],\n",
              "       [795.26],\n",
              "       [806.4 ],\n",
              "       [807.86],\n",
              "       [805.  ],\n",
              "       [807.14],\n",
              "       [807.48],\n",
              "       [807.08],\n",
              "       [805.81],\n",
              "       [805.12],\n",
              "       [806.91],\n",
              "       [807.25],\n",
              "       [822.3 ],\n",
              "       [829.62],\n",
              "       [837.81],\n",
              "       [834.71],\n",
              "       [814.66],\n",
              "       [796.86]])"
            ]
          },
          "metadata": {},
          "execution_count": 21
        }
      ]
    },
    {
      "cell_type": "code",
      "source": [
        "dataset_total = pd.concat((dataset_train['Open'] , dataset_test['Open']) , axis = 0)\n",
        "     "
      ],
      "metadata": {
        "id": "nU7vCyPZHvbn"
      },
      "execution_count": null,
      "outputs": []
    },
    {
      "cell_type": "code",
      "source": [
        "dataset_total.head()"
      ],
      "metadata": {
        "colab": {
          "base_uri": "https://localhost:8080/"
        },
        "id": "x4GJh06UHzRS",
        "outputId": "fd0b2172-6da3-43bf-da22-a7e42701d278"
      },
      "execution_count": null,
      "outputs": [
        {
          "output_type": "execute_result",
          "data": {
            "text/plain": [
              "0    325.25\n",
              "1    331.27\n",
              "2    329.83\n",
              "3    328.34\n",
              "4    322.04\n",
              "Name: Open, dtype: float64"
            ]
          },
          "metadata": {},
          "execution_count": 23
        }
      ]
    },
    {
      "cell_type": "code",
      "source": [
        "dataset_total.shape"
      ],
      "metadata": {
        "colab": {
          "base_uri": "https://localhost:8080/"
        },
        "id": "z8F4EwAUH2So",
        "outputId": "26338d44-7aed-4d7a-94e5-1979a30b7ac9"
      },
      "execution_count": null,
      "outputs": [
        {
          "output_type": "execute_result",
          "data": {
            "text/plain": [
              "(1278,)"
            ]
          },
          "metadata": {},
          "execution_count": 24
        }
      ]
    },
    {
      "cell_type": "code",
      "source": [
        "inputs = dataset_total[len(dataset_total)-len(dataset_test)-60: ].values\n",
        "     "
      ],
      "metadata": {
        "id": "33eET3-lH5al"
      },
      "execution_count": null,
      "outputs": []
    },
    {
      "cell_type": "code",
      "source": [
        "inputs"
      ],
      "metadata": {
        "colab": {
          "base_uri": "https://localhost:8080/"
        },
        "id": "-TfAvsMsH82F",
        "outputId": "4c03b9e8-6ff1-4948-a870-7f5e56a7fb33"
      },
      "execution_count": null,
      "outputs": [
        {
          "output_type": "execute_result",
          "data": {
            "text/plain": [
              "array([779.  , 779.66, 777.71, 786.66, 783.76, 781.22, 781.65, 779.8 ,\n",
              "       787.85, 798.24, 803.3 , 795.  , 804.9 , 816.68, 806.34, 801.  ,\n",
              "       808.35, 795.47, 782.89, 778.2 , 767.25, 750.66, 774.5 , 783.4 ,\n",
              "       779.94, 791.17, 756.54, 755.6 , 746.97, 755.2 , 766.92, 771.37,\n",
              "       762.61, 772.63, 767.73, 764.26, 760.  , 771.53, 770.07, 757.44,\n",
              "       744.59, 757.71, 764.73, 761.  , 772.48, 780.  , 785.04, 793.9 ,\n",
              "       797.4 , 797.34, 800.4 , 790.22, 796.76, 795.84, 792.36, 790.9 ,\n",
              "       790.68, 793.7 , 783.33, 782.75, 778.81, 788.36, 786.08, 795.26,\n",
              "       806.4 , 807.86, 805.  , 807.14, 807.48, 807.08, 805.81, 805.12,\n",
              "       806.91, 807.25, 822.3 , 829.62, 837.81, 834.71, 814.66, 796.86])"
            ]
          },
          "metadata": {},
          "execution_count": 26
        }
      ]
    },
    {
      "cell_type": "code",
      "source": [
        "inputs = inputs.reshape(-1,1)"
      ],
      "metadata": {
        "id": "XdIhXKmNH_dG"
      },
      "execution_count": null,
      "outputs": []
    },
    {
      "cell_type": "code",
      "source": [
        "inputs.shape"
      ],
      "metadata": {
        "colab": {
          "base_uri": "https://localhost:8080/"
        },
        "id": "wdG38MUrIB-S",
        "outputId": "908ba386-d97f-40a2-c537-f4b5f02435d8"
      },
      "execution_count": null,
      "outputs": [
        {
          "output_type": "execute_result",
          "data": {
            "text/plain": [
              "(80, 1)"
            ]
          },
          "metadata": {},
          "execution_count": 28
        }
      ]
    },
    {
      "cell_type": "code",
      "source": [
        "inputs = sc.transform(inputs)"
      ],
      "metadata": {
        "id": "hc-zt99mIEH9"
      },
      "execution_count": null,
      "outputs": []
    },
    {
      "cell_type": "code",
      "source": [
        "inputs[0]"
      ],
      "metadata": {
        "colab": {
          "base_uri": "https://localhost:8080/"
        },
        "id": "Cpc0LgxiIGu4",
        "outputId": "bc220eb1-c3ff-4e80-f47d-b15a8b1c29db"
      },
      "execution_count": null,
      "outputs": [
        {
          "output_type": "execute_result",
          "data": {
            "text/plain": [
              "array([0.9299055])"
            ]
          },
          "metadata": {},
          "execution_count": 30
        }
      ]
    },
    {
      "cell_type": "code",
      "source": [
        "x_test = []\n",
        "for i in range(60,80):\n",
        "  x_test.append(inputs[i-60:i , 0])\n",
        "x_test = np.array(x_test)"
      ],
      "metadata": {
        "id": "PMWfAdl8IJ4j"
      },
      "execution_count": null,
      "outputs": []
    },
    {
      "cell_type": "code",
      "source": [
        "x_test.shape"
      ],
      "metadata": {
        "colab": {
          "base_uri": "https://localhost:8080/"
        },
        "id": "67YytFefIQpa",
        "outputId": "f20535f9-6cb7-413e-d048-681d3972e299"
      },
      "execution_count": null,
      "outputs": [
        {
          "output_type": "execute_result",
          "data": {
            "text/plain": [
              "(20, 60)"
            ]
          },
          "metadata": {},
          "execution_count": 32
        }
      ]
    },
    {
      "cell_type": "code",
      "source": [
        "x_test = np.reshape(x_test , (x_test.shape[0] , x_test.shape[1] , 1))\n",
        "     "
      ],
      "metadata": {
        "id": "lyFnNYwmIToI"
      },
      "execution_count": null,
      "outputs": []
    },
    {
      "cell_type": "code",
      "source": [
        "x_test.shape"
      ],
      "metadata": {
        "colab": {
          "base_uri": "https://localhost:8080/"
        },
        "id": "3Ra-LuBKIWQ3",
        "outputId": "fb183030-2807-49f7-8342-a3eb21bb53ba"
      },
      "execution_count": null,
      "outputs": [
        {
          "output_type": "execute_result",
          "data": {
            "text/plain": [
              "(20, 60, 1)"
            ]
          },
          "metadata": {},
          "execution_count": 34
        }
      ]
    },
    {
      "cell_type": "code",
      "source": [
        "predicted_stock_price = regressor.predict(x_test)"
      ],
      "metadata": {
        "colab": {
          "base_uri": "https://localhost:8080/"
        },
        "id": "n0j8ouEbIYZJ",
        "outputId": "7a4a16b9-d647-4b34-9417-7be9da9983b1"
      },
      "execution_count": null,
      "outputs": [
        {
          "output_type": "stream",
          "name": "stdout",
          "text": [
            "1/1 [==============================] - 2s 2s/step\n"
          ]
        }
      ]
    },
    {
      "cell_type": "code",
      "source": [
        "predicted_stock_price"
      ],
      "metadata": {
        "colab": {
          "base_uri": "https://localhost:8080/"
        },
        "id": "VqBA8-y0IauI",
        "outputId": "89c18d54-8884-4b29-9d4c-8c4bc67b44b3"
      },
      "execution_count": null,
      "outputs": [
        {
          "output_type": "execute_result",
          "data": {
            "text/plain": [
              "array([[0.9545598 ],\n",
              "       [0.9498416 ],\n",
              "       [0.9601984 ],\n",
              "       [0.9593204 ],\n",
              "       [0.9685035 ],\n",
              "       [0.9844203 ],\n",
              "       [0.98866034],\n",
              "       [0.98511493],\n",
              "       [0.98813486],\n",
              "       [0.9910661 ],\n",
              "       [0.99176574],\n",
              "       [0.99074066],\n",
              "       [0.9902314 ],\n",
              "       [0.99287856],\n",
              "       [0.99410737],\n",
              "       [1.0128148 ],\n",
              "       [1.0254942 ],\n",
              "       [1.0363872 ],\n",
              "       [1.0345709 ],\n",
              "       [1.0109482 ]], dtype=float32)"
            ]
          },
          "metadata": {},
          "execution_count": 36
        }
      ]
    },
    {
      "cell_type": "code",
      "source": [
        "predicted_stock_price = sc.inverse_transform(predicted_stock_price)"
      ],
      "metadata": {
        "id": "YEXhgC_aIdZB"
      },
      "execution_count": null,
      "outputs": []
    },
    {
      "cell_type": "code",
      "source": [
        "predicted_stock_price\n",
        "     "
      ],
      "metadata": {
        "colab": {
          "base_uri": "https://localhost:8080/"
        },
        "id": "btdUyWzoIgIt",
        "outputId": "8308a57a-2af0-40ce-fb5a-7cc5be86ef65"
      },
      "execution_count": null,
      "outputs": [
        {
          "output_type": "execute_result",
          "data": {
            "text/plain": [
              "array([[792.2531 ],\n",
              "       [789.71686],\n",
              "       [795.28424],\n",
              "       [794.81226],\n",
              "       [799.7487 ],\n",
              "       [808.30493],\n",
              "       [810.5842 ],\n",
              "       [808.67834],\n",
              "       [810.30176],\n",
              "       [811.87744],\n",
              "       [812.25354],\n",
              "       [811.7025 ],\n",
              "       [811.4288 ],\n",
              "       [812.85175],\n",
              "       [813.5123 ],\n",
              "       [823.56866],\n",
              "       [830.38464],\n",
              "       [836.2403 ],\n",
              "       [835.2639 ],\n",
              "       [822.5653 ]], dtype=float32)"
            ]
          },
          "metadata": {},
          "execution_count": 38
        }
      ]
    },
    {
      "cell_type": "code",
      "source": [
        "plt.plot(real_stock_price , color='red' , label='Real Google Stock Price')\n",
        "plt.plot(predicted_stock_price , color='blue' , label = 'Predicted Google Stock Price')\n",
        "plt.title('Google Stock Price Prediction')\n",
        "plt.xlabel('Time')\n",
        "plt.ylabel('Stock Price')\n",
        "plt.legend()\n",
        "plt.show()"
      ],
      "metadata": {
        "colab": {
          "base_uri": "https://localhost:8080/",
          "height": 472
        },
        "id": "1VHXHhNZIieP",
        "outputId": "4c74cb17-019c-4190-9702-3f669580faa9"
      },
      "execution_count": null,
      "outputs": [
        {
          "output_type": "display_data",
          "data": {
            "text/plain": [
              "<Figure size 640x480 with 1 Axes>"
            ],
            "image/png": "[encoded data removed]"
          },
          "metadata": {}
        }
      ]
    },
    {
      "cell_type": "code",
      "source": [],
      "metadata": {
        "id": "HLZPVgxuIngC"
      },
      "execution_count": null,
      "outputs": []
    }
  ]
}